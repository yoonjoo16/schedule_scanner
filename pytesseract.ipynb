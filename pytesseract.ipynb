{
 "cells": [
  {
   "cell_type": "code",
   "execution_count": null,
   "metadata": {},
   "outputs": [],
   "source": [
    "# pip install Pillow\n",
    "# sudo apt-get install tesseract-ocr\n",
    "# sudo apt-get install tesseract-ocr-swe\n",
    "# pip install pytesseract\n",
    "# pip install opencv-python\n",
    "\n",
    "# https://pillow.readthedocs.io/en/stable/reference/Image.html\n",
    "# https://pypi.org/project/pytesseract/#description"
   ]
  },
  {
   "cell_type": "code",
   "execution_count": null,
   "metadata": {},
   "outputs": [],
   "source": [
    "# import sys\n",
    "# sys.executable\n",
    "# https://stackoverflow.com/questions/45345377/python-module-not-found-even-though-requirement-already-satisfied-in-pip\n",
    "# When pip installs package in wrong directory"
   ]
  },
  {
   "cell_type": "code",
   "execution_count": 2,
   "metadata": {},
   "outputs": [],
   "source": [
    "from PIL import Image\n",
    "import pytesseract\n",
    "pytesseract.pytesseract.tesseract_cmd = '/usr/bin/tesseract'"
   ]
  },
  {
   "cell_type": "code",
   "execution_count": 3,
   "metadata": {},
   "outputs": [
    {
     "name": "stdout",
     "output_type": "stream",
     "text": [
      "['eng', 'swe', 'osd']\n"
     ]
    }
   ],
   "source": [
    "# List of available languages\n",
    "print(pytesseract.get_languages(config=''))"
   ]
  },
  {
   "cell_type": "code",
   "execution_count": 25,
   "metadata": {},
   "outputs": [],
   "source": [
    "# make the image black/white\n",
    "import cv2\n",
    "img = cv2.imread(\"schema-img/dec_original.jpg\")\n",
    "img_gray = cv2.cvtColor(img, cv2.COLOR_BGR2GRAY)"
   ]
  },
  {
   "cell_type": "code",
   "execution_count": 26,
   "metadata": {},
   "outputs": [
    {
     "name": "stdout",
     "output_type": "stream",
     "text": [
      "TA SoNdag VUVU\n",
      "\n",
      "   \n",
      "\n",
      "  \n",
      "\n",
      "    \n",
      "\n",
      " \n",
      "\n",
      " \n",
      "  \n",
      "\n",
      " \n",
      "\n",
      "Ne a? RR\n",
      "\n",
      "Solusan, 200 internmed 1 10556 - SMava Lund Lr RR RR FRE\n",
      "vecka Datum Dag Från Till Kod - Rast =Tid Anteckningar\n",
      "46 2022-11-14 Mån\n",
      "2022-11-15 = Tisd\n",
      "2022-11-16 Onsd\n",
      "2022-11-17 — Törs\n",
      "2022-11-18 Fred\n",
      "2022-11-19 = Lörd\n",
      "2022-11-20 = Sönd\n",
      "47 2022-11-21 — Mån\n",
      "2022-11-22 — Tisd\n",
      "2022-11-23  Onsd\n",
      "2022-11-24 = Tors\n",
      "2022-11-25 — Fred\n",
      "2022-11-26 Lörd\n",
      "2022-11-27 — Sönd\n",
      "48 2022-11-28 Mån\n",
      "2022-11-29 = Tisd\n",
      "2022-11-30 = Onsd\n",
      "2022-12-01 = Tors\n",
      "2022-12-02 Fred 1400 2130 <:SSK8 0:30. 00\n",
      "2022-12-03 Lörd 0645 1430 <SSK8 0:30 — 715\n",
      "0 2022-12-04 Sönd 10645 430 SSKS 0:30. 215 SS\n",
      "49 2022-12-05 Mån 2100 0715 TJÄNS 0:00\" 10:15.\n",
      "2022-12-06 Tisd\n",
      "2022-12-07 — Onsd\n",
      "2022-12-08 Tors\n",
      "2022-12-09 fred 2100: 0715 = TJÄNS 0:00. — 10:15\n",
      "2022-12-10 Lörd 2100 0715 TJÄNS 0:00 10:15\n",
      "2022-12-11 Sönd\n",
      "50 2022-12-12 - Mån\n",
      "2022-12-18 — Tisd 0800 1600 UTB Tl 0:30 7:30 HER\n",
      "2022-12-14 Onsd 1400 2130 SSK8 0:30 7:00\n",
      "2022-12-15 — Tors — 1400 2130 SSK8 0:30 7:00\n",
      "2022-12-16 Fred 1400 2130 SSK38 0:30 7:00\n",
      "2022-12-17 — Lörd\n",
      "2022-12-18 Sönd\n",
      "51 5092-12-19 Mån 2100 0715  SSK8 0:00. 10:15\n",
      "$022-12-200.- Tisd 2100 - 0715 - SSKS8 0:00 — 10:15\n",
      "2022-12-21  Onsd. 2100 0715 — SSK8 0:00. 10:15\n",
      "2022-12-22 Tors\n",
      "2022-12-23 Fred\n",
      "2022-12-24 — Lörd\n",
      "2022-12-25 Sönd 1400 2130 SSK8 0:30 7:00\n",
      "52 2022-12-26 Mån 1400 21350  SOKO 0:30 7:00 RN\n",
      "2022-12-07 Tisd 2100 DID TJÄNS 0:00 — 10-16\n",
      "2022-12-28 Onsd\n",
      "2022-12-29 = Tors\n",
      "2022-12-30 Fred\n",
      "2022-12-31 — Lörd\n",
      "2023-01-01 SÖMN\n",
      "TN Mn 200 08 SE AR\n",
      "\n",
      "St RARE SVARAR FA NER An ASA ÖR RNE ERNER\n",
      "\n",
      "söt NS rn MAA\n",
      "\n",
      "oomstsärnertt rn ORON EINSERS PES ER\n",
      "\n",
      "RP AE FR SENARE RNE FAN NEAR SEA ERNER RER 0\n",
      "\f\n"
     ]
    }
   ],
   "source": [
    "# Simple image to string\n",
    "schema =pytesseract.image_to_string(img, lang=\"swe\")\n",
    "print(schema)"
   ]
  },
  {
   "cell_type": "code",
   "execution_count": 27,
   "metadata": {},
   "outputs": [
    {
     "name": "stdout",
     "output_type": "stream",
     "text": [
      "['2022-12-02 Fre 1400 2130', '2022-12-03 Lör 0645 1430', '2022-12-05 Mån 2100 0715', '2022-12-09 fre 2100 0715', '2022-12-10 Lör 2100 0715', '2022-12-18 Tis 0800 1600', '2022-12-14 Ons 1400 2130', '2022-12-15 Tor 1400 2130', '2022-12-16 Fre 1400 2130', '5092-12-19 Mån 2100 0715', '2022-12-21 Ons 2100 0715', '2022-12-25 Sön 1400 2130', '2022-12-26 Mån 1400 2135']\n"
     ]
    }
   ],
   "source": [
    "import re\n",
    "# Trim the string and extract the actual events\n",
    "trim = re.sub(r'\\S?(\\d{4}-\\d{2}-\\d{2})\\S?\\s\\W*(\\w{3})\\w?\\D*(\\d{4})\\D*(\\d{4})',r'\\1 \\2 \\3 \\4 ',schema)\n",
    "pattern = re.compile('\\d{4}-\\d{2}-\\d{2}\\s\\w{3}\\s\\d{4}\\s\\d{4}')\n",
    "print(pattern.findall(trim))\n"
   ]
  },
  {
   "cell_type": "code",
   "execution_count": null,
   "metadata": {},
   "outputs": [],
   "source": []
  }
 ],
 "metadata": {
  "kernelspec": {
   "display_name": ".venv",
   "language": "python",
   "name": "python3"
  },
  "language_info": {
   "codemirror_mode": {
    "name": "ipython",
    "version": 3
   },
   "file_extension": ".py",
   "mimetype": "text/x-python",
   "name": "python",
   "nbconvert_exporter": "python",
   "pygments_lexer": "ipython3",
   "version": "3.8.8"
  },
  "orig_nbformat": 4,
  "vscode": {
   "interpreter": {
    "hash": "d2c858b631c18950bc88c211716eaea5b5b7d80e6148d376d22451519bb93511"
   }
  }
 },
 "nbformat": 4,
 "nbformat_minor": 2
}
