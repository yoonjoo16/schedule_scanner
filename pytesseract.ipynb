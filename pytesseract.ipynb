{
 "cells": [
  {
   "cell_type": "code",
   "execution_count": 28,
   "metadata": {},
   "outputs": [],
   "source": [
    "# pip install Pillow\n",
    "# sudo apt-get install tesseract-ocr\n",
    "# sudo apt-get install tesseract-ocr-swe\n",
    "# pip install pytesseract\n",
    "# pip install opencv-python\n",
    "\n",
    "# https://pillow.readthedocs.io/en/stable/reference/Image.html\n",
    "# https://pypi.org/project/pytesseract/#description"
   ]
  },
  {
   "cell_type": "code",
   "execution_count": 29,
   "metadata": {},
   "outputs": [],
   "source": [
    "# This is what I did when pip installs package in wrong directory. You don't need to do this.\n",
    "# import sys\n",
    "# sys.executable\n",
    "# https://stackoverflow.com/questions/45345377/python-module-not-found-even-though-requirement-already-satisfied-in-pip"
   ]
  },
  {
   "cell_type": "code",
   "execution_count": 2,
   "metadata": {},
   "outputs": [],
   "source": [
    "from PIL import Image\n",
    "import pytesseract\n",
    "pytesseract.pytesseract.tesseract_cmd = '/usr/bin/tesseract'"
   ]
  },
  {
   "cell_type": "code",
   "execution_count": 3,
   "metadata": {},
   "outputs": [
    {
     "name": "stdout",
     "output_type": "stream",
     "text": [
      "['eng', 'swe', 'osd']\n"
     ]
    }
   ],
   "source": [
    "# List of available languages\n",
    "print(pytesseract.get_languages(config=''))"
   ]
  },
  {
   "cell_type": "code",
   "execution_count": 25,
   "metadata": {},
   "outputs": [],
   "source": [
    "# make the image black/white\n",
    "import cv2\n",
    "img = cv2.imread(\"schema-img/dec_original.jpg\")\n",
    "img_gray = cv2.cvtColor(img, cv2.COLOR_BGR2GRAY)"
   ]
  },
  {
   "cell_type": "code",
   "execution_count": 30,
   "metadata": {},
   "outputs": [],
   "source": [
    "# Simple image to string\n",
    "schema =pytesseract.image_to_string(img, lang=\"swe\")\n",
    "#print(schema)"
   ]
  },
  {
   "cell_type": "code",
   "execution_count": 27,
   "metadata": {},
   "outputs": [
    {
     "name": "stdout",
     "output_type": "stream",
     "text": [
      "['2022-12-02 Fre 1400 2130', '2022-12-03 Lör 0645 1430', '2022-12-05 Mån 2100 0715', '2022-12-09 fre 2100 0715', '2022-12-10 Lör 2100 0715', '2022-12-18 Tis 0800 1600', '2022-12-14 Ons 1400 2130', '2022-12-15 Tor 1400 2130', '2022-12-16 Fre 1400 2130', '5092-12-19 Mån 2100 0715', '2022-12-21 Ons 2100 0715', '2022-12-25 Sön 1400 2130', '2022-12-26 Mån 1400 2135']\n"
     ]
    }
   ],
   "source": [
    "import re\n",
    "# Trim the string and extract the actual events\n",
    "trim = re.sub(r'\\S?(\\d{4}-\\d{2}-\\d{2})\\S?\\s\\W*(\\w{3})\\w?\\D*(\\d{4})\\D*(\\d{4})',r'\\1 \\2 \\3 \\4 ',schema)\n",
    "pattern = re.compile('\\d{4}-\\d{2}-\\d{2}\\s\\w{3}\\s\\d{4}\\s\\d{4}')\n",
    "print(pattern.findall(trim))\n"
   ]
  }
 ],
 "metadata": {
  "kernelspec": {
   "display_name": ".venv",
   "language": "python",
   "name": "python3"
  },
  "language_info": {
   "codemirror_mode": {
    "name": "ipython",
    "version": 3
   },
   "file_extension": ".py",
   "mimetype": "text/x-python",
   "name": "python",
   "nbconvert_exporter": "python",
   "pygments_lexer": "ipython3",
   "version": "3.8.8"
  },
  "orig_nbformat": 4,
  "vscode": {
   "interpreter": {
    "hash": "d2c858b631c18950bc88c211716eaea5b5b7d80e6148d376d22451519bb93511"
   }
  }
 },
 "nbformat": 4,
 "nbformat_minor": 2
}
