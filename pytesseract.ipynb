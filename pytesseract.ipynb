{
 "cells": [
  {
   "cell_type": "code",
   "execution_count": 11,
   "metadata": {},
   "outputs": [],
   "source": [
    "from PIL import Image\n",
    "import pytesseract\n",
    "\n",
    "pytesseract.pytesseract.tesseract_cmd = r'C:\\Program Files\\Tesseract-OCR\\tesseract.exe'"
   ]
  },
  {
   "cell_type": "code",
   "execution_count": 12,
   "metadata": {},
   "outputs": [
    {
     "name": "stdout",
     "output_type": "stream",
     "text": [
      "['eng', 'jpn', 'osd', 'swe']\n"
     ]
    }
   ],
   "source": [
    "# List of available languages\n",
    "print(pytesseract.get_languages(config=''))"
   ]
  },
  {
   "cell_type": "code",
   "execution_count": 8,
   "metadata": {},
   "outputs": [],
   "source": [
    "# https://pillow.readthedocs.io/en/stable/reference/Image.html\n",
    "# https://pypi.org/project/pytesseract/#description"
   ]
  },
  {
   "cell_type": "code",
   "execution_count": 13,
   "metadata": {},
   "outputs": [],
   "source": [
    "# make the image black/white\n",
    "import cv2\n",
    "img = cv2.imread(\"D:\\Dokument\\ScheduleScanner\\schema-img\\IMG_9384.jpg\")\n",
    "img_gray = cv2.cvtColor(img, cv2.COLOR_BGR2GRAY)"
   ]
  },
  {
   "cell_type": "code",
   "execution_count": 10,
   "metadata": {},
   "outputs": [],
   "source": [
    "# import sys\n",
    "# sys.executable\n",
    "# https://stackoverflow.com/questions/45345377/python-module-not-found-even-though-requirement-already-satisfied-in-pip\n",
    "# When pip installs package in wrong directory"
   ]
  },
  {
   "cell_type": "code",
   "execution_count": 14,
   "metadata": {},
   "outputs": [],
   "source": [
    "\n",
    "# Simple image to string\n",
    "schema =pytesseract.image_to_string(img_gray, lang=\"swe\")\n",
    "# print(schema)"
   ]
  },
  {
   "cell_type": "code",
   "execution_count": 101,
   "metadata": {},
   "outputs": [],
   "source": [
    "import re"
   ]
  },
  {
   "cell_type": "code",
   "execution_count": 44,
   "metadata": {},
   "outputs": [
    {
     "name": "stdout",
     "output_type": "stream",
     "text": [
      "TvAd å KFUaLUTiF\n",
      "\n",
      "2023-01-03. Ted 2100-0715 - SSK — 0:00 OMS\n",
      "2023-01-04 Onsd 2100 0715 <SSK8 0:00-- 10:15\n",
      "2023-01-05 = Tors\n",
      "\n",
      "2023-01-06 Fred\n",
      "\n",
      "2023-01-07 — Lörd\n",
      "\n",
      "2023-01-08 Sönd\n",
      "\n",
      "2023-01-09 Mån 1400 2130 TJÄNS = <+0:30 7:00\n",
      "2023-01-10 Tisd 1400 2130 TJÄNS 0:30 = 7:00\n",
      "2023-01-11.  Onsd 1400. 2130 TJÄNS 0:30. 7:00\n",
      "2023-01-12 Tors\n",
      "\n",
      "2023-01-13 Fred\n",
      "\n",
      "2023-01-14 Lörd 0645 1430 <SSK8 0:30. - 715\n",
      "2023-01-15 Sönd 1400 2130 <SSK8 0:30 200\n",
      "\"2023-01-16 Mån — 1400 2130 SSOKS 0:30 = 7:00\n",
      "2023-01-17 Tisd\n",
      "\n",
      "2023-01-18 Onsd\n",
      "\n",
      "2023-01-19 Tors 0645 1500 EGETA +00:30 = ++7:45\n",
      "2023-01-20 — Fred 1400 — 2130  SSKE 0:30 700\n",
      "2023-01-21 — Lörd\n",
      "\n",
      "2023-01-22 — Sönd\n",
      "\n"
     ]
    }
   ],
   "source": [
    "print(schema)"
   ]
  },
  {
   "cell_type": "code",
   "execution_count": 102,
   "metadata": {},
   "outputs": [
    {
     "name": "stdout",
     "output_type": "stream",
     "text": [
      "['2023-01-03 Ted 2100 0715', '2023-01-04 Ons 2100 0715', '2023-01-09 Mån 1400 2130', '2023-01-10 Tis 1400 2130', '2023-01-11 Ons 1400 2130', '2023-01-14 Lör 0645 1430', '2023-01-15 Sön 1400 2130', '2023-01-16 Mån 1400 2130', '2023-01-19 Tor 0645 1500', '2023-01-20 Fre 1400 2130']\n"
     ]
    }
   ],
   "source": [
    "# Trim the string and extract the actual events\n",
    "trim = re.sub(r'\\S?(\\d{4}-\\d{2}-\\d{2})\\S?\\s\\W*(\\w{3})\\w?\\D*(\\d{4})\\D*(\\d{4})',r'\\1 \\2 \\3 \\4 ',schema)\n",
    "pattern = re.compile('\\d{4}-\\d{2}-\\d{2}\\s\\w{3}\\s\\d{4}\\s\\d{4}')\n",
    "print(pattern.findall(trim))\n"
   ]
  },
  {
   "cell_type": "code",
   "execution_count": null,
   "metadata": {},
   "outputs": [],
   "source": []
  }
 ],
 "metadata": {
  "kernelspec": {
   "display_name": ".venv",
   "language": "python",
   "name": "python3"
  },
  "language_info": {
   "codemirror_mode": {
    "name": "ipython",
    "version": 3
   },
   "file_extension": ".py",
   "mimetype": "text/x-python",
   "name": "python",
   "nbconvert_exporter": "python",
   "pygments_lexer": "ipython3",
   "version": "3.10.4"
  },
  "orig_nbformat": 4,
  "vscode": {
   "interpreter": {
    "hash": "4651c816ea090969f1d8e78790c47fb5e821fc824c26309decdc6013a4203755"
   }
  }
 },
 "nbformat": 4,
 "nbformat_minor": 2
}
