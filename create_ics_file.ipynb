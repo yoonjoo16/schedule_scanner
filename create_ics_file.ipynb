{
 "cells": [
  {
   "cell_type": "markdown",
   "id": "1336a07d",
   "metadata": {},
   "source": [
    "Create a ics file"
   ]
  },
  {
   "cell_type": "code",
   "execution_count": 1,
   "id": "8b1e629a",
   "metadata": {},
   "outputs": [],
   "source": [
    "# pip install icalendar"
   ]
  },
  {
   "cell_type": "code",
   "execution_count": 1,
   "id": "38f3f4b6",
   "metadata": {},
   "outputs": [],
   "source": [
    "# imports\n",
    "from icalendar import Calendar, Event\n",
    "from datetime import datetime\n",
    "from pathlib import Path\n",
    "import os\n",
    "from pytz import timezone"
   ]
  },
  {
   "cell_type": "code",
   "execution_count": 2,
   "id": "8ebfd3b7",
   "metadata": {},
   "outputs": [],
   "source": [
    "cal = Calendar()\n",
    "event = Event()\n",
    "cet = timezone('Europe/Copenhagen')\n",
    "event.add('name', 'Awesome Meeting')\n",
    "event.add('description', 'Define the roadmap of our awesome project')\n",
    "event.add('dtstart', datetime(2022, 1, 25, 8, 0, 0, tzinfo=cet))\n",
    "event.add('dtend', datetime(2022, 1, 25, 10, 0, 0, tzinfo=cet))\n",
    "\n",
    "cal.add_component(event)"
   ]
  },
  {
   "cell_type": "code",
   "execution_count": 3,
   "id": "03f73ad1",
   "metadata": {},
   "outputs": [
    {
     "name": "stdout",
     "output_type": "stream",
     "text": [
      "Folder was created\n"
     ]
    }
   ],
   "source": [
    "# Write to disk\n",
    "directory = Path.cwd() / 'MyCalendar'\n",
    "try:\n",
    "   directory.mkdir(parents=True, exist_ok=False)\n",
    "except FileExistsError:\n",
    "   print(\"Folder already exists\")\n",
    "else:\n",
    "   print(\"Folder was created\")\n",
    " \n",
    "f = open(os.path.join(directory, 'example.ics'), 'wb')\n",
    "f.write(cal.to_ical())\n",
    "f.close()"
   ]
  },
  {
   "cell_type": "markdown",
   "id": "40ba30be",
   "metadata": {},
   "source": [
    "Load ics file"
   ]
  },
  {
   "cell_type": "code",
   "execution_count": 4,
   "id": "e42d7cfd",
   "metadata": {},
   "outputs": [
    {
     "name": "stdout",
     "output_type": "stream",
     "text": [
      "Awesome Meeting\n",
      "Define the roadmap of our awesome project\n",
      "None\n",
      "None\n",
      "2022-01-25 08:00:00+01:00\n",
      "2022-01-25 10:00:00+01:00\n"
     ]
    }
   ],
   "source": [
    "e = open('MyCalendar/example.ics', 'rb')\n",
    "ecal = Calendar.from_ical(e.read())\n",
    "for component in ecal.walk():\n",
    "    if component.name == \"VEVENT\":\n",
    "       print(component.get(\"name\"))\n",
    "       print(component.get(\"description\"))\n",
    "       print(component.get(\"organizer\"))\n",
    "       print(component.get(\"location\"))\n",
    "       print(component.decoded(\"dtstart\"))\n",
    "       print(component.decoded(\"dtend\"))\n",
    "e.close()"
   ]
  }
 ],
 "metadata": {
  "kernelspec": {
   "display_name": ".venv",
   "language": "python",
   "name": "python3"
  },
  "language_info": {
   "codemirror_mode": {
    "name": "ipython",
    "version": 3
   },
   "file_extension": ".py",
   "mimetype": "text/x-python",
   "name": "python",
   "nbconvert_exporter": "python",
   "pygments_lexer": "ipython3",
   "version": "3.8.8"
  },
  "vscode": {
   "interpreter": {
    "hash": "d2c858b631c18950bc88c211716eaea5b5b7d80e6148d376d22451519bb93511"
   }
  }
 },
 "nbformat": 4,
 "nbformat_minor": 5
}
